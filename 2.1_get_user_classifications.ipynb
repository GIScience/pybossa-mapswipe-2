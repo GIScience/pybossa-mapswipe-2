{
 "cells": [
  {
   "cell_type": "markdown",
   "metadata": {},
   "source": [
    "# 2.1 Get User Classifications from Pybossa\n",
    "After a task was mapped by a sufficient number of volunteers (e.g. 3-5) the individual results will be downloaded from pybossa and further processed."
   ]
  },
  {
   "cell_type": "code",
   "execution_count": 1,
   "metadata": {},
   "outputs": [],
   "source": [
    "from IPython.display import *\n",
    "from IPython.display import HTML\n",
    "import json\n",
    "import numpy as np\n",
    "import pandas as pd\n",
    "import pbclient\n",
    "\n",
    "import json\n",
    "import geojson\n",
    "from shapely.geometry import shape\n",
    "from utils_pybossa_functions import *"
   ]
  },
  {
   "cell_type": "markdown",
   "metadata": {},
   "source": [
    "## Configuration"
   ]
  },
  {
   "cell_type": "code",
   "execution_count": 2,
   "metadata": {},
   "outputs": [
    {
     "name": "stdout",
     "output_type": "stream",
     "text": [
      "pybossa.Project(\"mapswipe_2_0\", 49)\n"
     ]
    }
   ],
   "source": [
    "config_file = './cfg/config.json'\n",
    "with open(config_file) as f:\n",
    "    config = json.load(f)\n",
    "\n",
    "project_shortname = 'mapswipe_2_0'\n",
    "project_id = 49\n",
    "\n",
    "# setup the pybossa server connection\n",
    "pbclient.set('endpoint', config['pybossa']['endpoint'])\n",
    "pbclient.set('api_key', config['pybossa']['key'])\n",
    "\n",
    "pybossa_project = pbclient.get_project(project_id)\n",
    "print(pybossa_project)"
   ]
  },
  {
   "cell_type": "markdown",
   "metadata": {},
   "source": [
    "## Download User Classifications"
   ]
  },
  {
   "cell_type": "code",
   "execution_count": 3,
   "metadata": {},
   "outputs": [
    {
     "name": "stdout",
     "output_type": "stream",
     "text": [
      "\n",
      "    INFO: you can use keyset pagination to get faster responses from the server.\n",
      "    To learn more, please visit:\n",
      "    https://github.com/PYBOSSA/pybossa-client#on-queries-and-performance\n",
      "    \n",
      "15\n"
     ]
    }
   ],
   "source": [
    "pybossa_project = pbclient.find_project(short_name=project_shortname)[0]\n",
    "\n",
    "all_task_runs = get_all_task_runs(pbclient, pybossa_project)\n",
    "print(len(all_task_runs))"
   ]
  },
  {
   "cell_type": "code",
   "execution_count": null,
   "metadata": {},
   "outputs": [],
   "source": []
  }
 ],
 "metadata": {
  "kernelspec": {
   "display_name": "Python 3",
   "language": "python",
   "name": "python3"
  },
  "language_info": {
   "codemirror_mode": {
    "name": "ipython",
    "version": 3
   },
   "file_extension": ".py",
   "mimetype": "text/x-python",
   "name": "python",
   "nbconvert_exporter": "python",
   "pygments_lexer": "ipython3",
   "version": "3.6.4"
  }
 },
 "nbformat": 4,
 "nbformat_minor": 2
}
