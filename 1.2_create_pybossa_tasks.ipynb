{
 "cells": [
  {
   "cell_type": "markdown",
   "metadata": {},
   "source": [
    "# 1.1 Create PyBossa Tasks\n",
    "Create tasks in Pybossa using a Geojson file containing polyongs (e.g. buildings)."
   ]
  },
  {
   "cell_type": "code",
   "execution_count": 8,
   "metadata": {},
   "outputs": [],
   "source": [
    "from IPython.display import *\n",
    "from IPython.display import HTML\n",
    "import json\n",
    "import numpy as np\n",
    "import pandas as pd\n",
    "import pbclient\n",
    "\n",
    "import json\n",
    "import geojson\n",
    "from shapely.geometry import shape\n",
    "from utils_pybossa_functions import *"
   ]
  },
  {
   "cell_type": "markdown",
   "metadata": {},
   "source": [
    "## Configuration\n",
    "Information on project_id etc. "
   ]
  },
  {
   "cell_type": "code",
   "execution_count": 9,
   "metadata": {},
   "outputs": [
    {
     "name": "stdout",
     "output_type": "stream",
     "text": [
      "pybossa.Project(\"mapswipe_2_0\", 49)\n"
     ]
    }
   ],
   "source": [
    "sample_data_file = './data/2989_buildings_oriented_bbox_select_aligned_random.geojson'\n",
    "\n",
    "config_file = './cfg/config.json'\n",
    "with open(config_file) as f:\n",
    "    config = json.load(f)\n",
    "\n",
    "project_shortname = 'mapswipe_2_0'\n",
    "project_id = 49\n",
    "\n",
    "# setup the pybossa server connection\n",
    "pbclient.set('endpoint', config['pybossa']['endpoint'])\n",
    "pbclient.set('api_key', config['pybossa']['key'])\n",
    "\n",
    "pybossa_project = pbclient.get_project(project_id)\n",
    "print(pybossa_project)"
   ]
  },
  {
   "cell_type": "markdown",
   "metadata": {},
   "source": [
    "## Create Task in PyBossa\n"
   ]
  },
  {
   "cell_type": "code",
   "execution_count": 11,
   "metadata": {},
   "outputs": [
    {
     "name": "stdout",
     "output_type": "stream",
     "text": [
      "\n",
      "    INFO: you can use keyset pagination to get faster responses from the server.\n",
      "    To learn more, please visit:\n",
      "    https://github.com/PYBOSSA/pybossa-client#on-queries-and-performance\n",
      "    \n",
      "created tasks: 3, not created because duplicate: 997\n"
     ]
    }
   ],
   "source": [
    "with open(sample_data_file) as f:\n",
    "    geojson_data = geojson.load(f)\n",
    "\n",
    "all_task_ids =  []\n",
    "\n",
    "all_tasks = pbclient.get_tasks(pybossa_project.id, last_id=None)\n",
    "    \n",
    "# let's get the id of the tasks we already imported\n",
    "# we can only request 100 tasks at a time\n",
    "while len(all_tasks) > 0:\n",
    "    # delete tasks one after the other\n",
    "    for task in all_tasks:\n",
    "        all_task_ids.append(task.info['id'])\n",
    "        last_id = task.id\n",
    "\n",
    "    all_tasks = pbclient.get_tasks(pybossa_project.id, last_id=last_id)\n",
    "\n",
    "duplicates = 0\n",
    "created = 0\n",
    "for g in geojson_data['features']:\n",
    "    object_id = g['properties']['id']\n",
    "    \n",
    "    if object_id in all_task_ids:\n",
    "        duplicates += 1\n",
    "        continue\n",
    "    \n",
    "    geometry = g['geometry']\n",
    "    wkt_geometry = shape(geometry).wkt\n",
    "    \n",
    "    task_info = {\n",
    "        'id': object_id,\n",
    "        'wkt_geom': wkt_geometry\n",
    "    }\n",
    "    \n",
    "    response = pbclient.create_task(pybossa_project.id, task_info)\n",
    "    created += 1\n",
    "    \n",
    "print('created tasks: %s, not created because duplicate: %s' % (created, duplicates))"
   ]
  },
  {
   "cell_type": "markdown",
   "metadata": {},
   "source": [
    "## Delete Tasks and Task Runs in Pybossa"
   ]
  },
  {
   "cell_type": "code",
   "execution_count": 7,
   "metadata": {},
   "outputs": [
    {
     "name": "stdout",
     "output_type": "stream",
     "text": [
      "\n",
      "    INFO: you can use keyset pagination to get faster responses from the server.\n",
      "    To learn more, please visit:\n",
      "    https://github.com/PYBOSSA/pybossa-client#on-queries-and-performance\n",
      "    \n",
      "after deleting 20 taskruns there are 0 taskruns for project: pybossa.Project(\"mapswipe_2_0\", 49)\n"
     ]
    }
   ],
   "source": [
    "pybossa_project = pbclient.find_project(short_name=project_shortname)[0]\n",
    "#delete_all_pybossa_tasks(pbclient, pybossa_project)\n",
    "delete_all_pybossa_taskruns(pbclient, pybossa_project)"
   ]
  }
 ],
 "metadata": {
  "kernelspec": {
   "display_name": "Python 3",
   "language": "python",
   "name": "python3"
  },
  "language_info": {
   "codemirror_mode": {
    "name": "ipython",
    "version": 3
   },
   "file_extension": ".py",
   "mimetype": "text/x-python",
   "name": "python",
   "nbconvert_exporter": "python",
   "pygments_lexer": "ipython3",
   "version": "3.6.4"
  }
 },
 "nbformat": 4,
 "nbformat_minor": 2
}
