{
 "cells": [
  {
   "cell_type": "markdown",
   "metadata": {},
   "source": [
    "# 1.0 Create Task Presenter\n",
    "Create a web interface to visualize the mapping tasks."
   ]
  },
  {
   "cell_type": "code",
   "execution_count": 1,
   "metadata": {},
   "outputs": [],
   "source": [
    "from IPython.display import *\n",
    "from IPython.display import HTML\n",
    "import json\n",
    "import numpy as np\n",
    "import pandas as pd\n",
    "import pbclient\n",
    "\n",
    "import json\n",
    "import geojson\n",
    "from shapely.geometry import shape"
   ]
  },
  {
   "cell_type": "markdown",
   "metadata": {},
   "source": [
    "## Configuration"
   ]
  },
  {
   "cell_type": "code",
   "execution_count": 3,
   "metadata": {},
   "outputs": [
    {
     "name": "stdout",
     "output_type": "stream",
     "text": [
      "pybossa.Project(\"mapswipe_2_0\", 49)\n"
     ]
    }
   ],
   "source": [
    "template_file = './task_presenter_template.html'\n",
    "\n",
    "config_file = './cfg/config.json'\n",
    "with open(config_file) as f:\n",
    "    config = json.load(f)\n",
    "\n",
    "bing_key = config['imagery']['bing']\n",
    "    \n",
    "project_shortname = 'mapswipe_2_0'\n",
    "project_id = 49\n",
    "\n",
    "# setup the pybossa server connection\n",
    "pbclient.set('endpoint', config['pybossa']['endpoint'])\n",
    "pbclient.set('api_key', config['pybossa']['key'])\n",
    "\n",
    "pybossa_project = pbclient.get_project(project_id)\n",
    "print(pybossa_project)"
   ]
  },
  {
   "cell_type": "markdown",
   "metadata": {},
   "source": [
    "## Update Task Presenter"
   ]
  },
  {
   "cell_type": "code",
   "execution_count": 4,
   "metadata": {},
   "outputs": [
    {
     "data": {
      "text/plain": [
       "pybossa.Project(\"mapswipe_2_0\", 49)"
      ]
     },
     "execution_count": 4,
     "metadata": {},
     "output_type": "execute_result"
    }
   ],
   "source": [
    "# Then update Task Presenter\n",
    "task_presenter = open(template_file).read()\n",
    "pybossa_project.info['task_presenter'] = task_presenter.replace('{project_shortname}', project_shortname).replace('{bing_key}', bing_key)\n",
    "pbclient.update_project(pybossa_project)"
   ]
  }
 ],
 "metadata": {
  "kernelspec": {
   "display_name": "Python 3",
   "language": "python",
   "name": "python3"
  },
  "language_info": {
   "codemirror_mode": {
    "name": "ipython",
    "version": 3
   },
   "file_extension": ".py",
   "mimetype": "text/x-python",
   "name": "python",
   "nbconvert_exporter": "python",
   "pygments_lexer": "ipython3",
   "version": "3.6.4"
  }
 },
 "nbformat": 4,
 "nbformat_minor": 2
}
